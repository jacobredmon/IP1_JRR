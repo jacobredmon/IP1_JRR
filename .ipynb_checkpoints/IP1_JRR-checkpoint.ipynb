{
 "cells": [
  {
   "cell_type": "markdown",
   "metadata": {},
   "source": [
    "# Individual Project 1 \n",
    "---  \n",
    "**Author:** Jacob Redmon  \n",
    "**Version:** 1.0  \n",
    "**Semester:** Spring 2021  \n",
    "**Summary:**  \n",
    "\n",
    "This program reads data from a file and performs simple data manipulation and display with Numpy and PrettyTable."
   ]
  },
  {
   "cell_type": "markdown",
   "metadata": {},
   "source": [
    "## 1. `get_data()`  \n",
    "Accepts a filename and reads the file into a **list**.  \n",
    "Returns a **list**."
   ]
  },
  {
   "cell_type": "code",
   "execution_count": null,
   "metadata": {},
   "outputs": [],
   "source": []
  },
  {
   "cell_type": "markdown",
   "metadata": {},
   "source": [
    "## 2. `show_table`  \n",
    "Accepts a list and prints a **PrettyTable** of the data with the first row of the data as a header row."
   ]
  },
  {
   "cell_type": "code",
   "execution_count": null,
   "metadata": {},
   "outputs": [],
   "source": []
  },
  {
   "cell_type": "markdown",
   "metadata": {},
   "source": [
    "## 3. `count_lot_type`  \n",
    "Accepts a list and the lot type (`SURFACE LOT`/`GARAGE`).  \n",
    "Returns a **tuple** that contains the lot type and the number of lots of that type."
   ]
  },
  {
   "cell_type": "code",
   "execution_count": null,
   "metadata": {},
   "outputs": [],
   "source": []
  },
  {
   "cell_type": "markdown",
   "metadata": {},
   "source": [
    "## 4. `get_column_stats`  \n",
    "Accepts a list and a column position (2.. 5; others return error). Converts column to a **Numpy array**, uses `max`, `min`, and `mean` functions to calculate values.  \n",
    "Returns a **PrettyTable**."
   ]
  },
  {
   "cell_type": "code",
   "execution_count": null,
   "metadata": {},
   "outputs": [],
   "source": []
  }
 ],
 "metadata": {
  "kernelspec": {
   "display_name": "Python 3",
   "language": "python",
   "name": "python3"
  },
  "language_info": {
   "codemirror_mode": {
    "name": "ipython",
    "version": 3
   },
   "file_extension": ".py",
   "mimetype": "text/x-python",
   "name": "python",
   "nbconvert_exporter": "python",
   "pygments_lexer": "ipython3",
   "version": "3.8.5"
  }
 },
 "nbformat": 4,
 "nbformat_minor": 4
}
