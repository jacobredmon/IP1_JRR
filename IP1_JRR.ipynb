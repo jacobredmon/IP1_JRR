{
 "cells": [
  {
   "cell_type": "markdown",
   "metadata": {},
   "source": [
    "# Individual Project 1 \n",
    "---  \n",
    "**Author:** Jacob Redmon  \n",
    "**Version:** 1.0  \n",
    "**Semester:** Spring 2021  \n",
    "**Summary:**  \n",
    "\n",
    "This program reads data from a file and performs simple data manipulation and display with Numpy and PrettyTable."
   ]
  },
  {
   "cell_type": "markdown",
   "metadata": {},
   "source": [
    "## 0. Imports"
   ]
  },
  {
   "cell_type": "code",
   "execution_count": 37,
   "metadata": {},
   "outputs": [],
   "source": [
    "import csv\n",
    "from prettytable import PrettyTable\n",
    "from collections import Counter\n",
    "import numpy"
   ]
  },
  {
   "cell_type": "markdown",
   "metadata": {},
   "source": [
    "## 1. `get_data()`  \n",
    "Accepts a filename and reads the file into a **list**.  \n",
    "Returns a **list**."
   ]
  },
  {
   "cell_type": "code",
   "execution_count": 38,
   "metadata": {},
   "outputs": [],
   "source": [
    "def get_data(filename):\n",
    "    with open(filename, newline='') as f:\n",
    "        reader = csv.reader(f)\n",
    "        data = list(reader)\n",
    "        \n",
    "    return data"
   ]
  },
  {
   "cell_type": "markdown",
   "metadata": {},
   "source": [
    "## 2. `show_table()`  \n",
    "Accepts a list and prints a **PrettyTable** of the data with the first row of the data as a header row."
   ]
  },
  {
   "cell_type": "code",
   "execution_count": 39,
   "metadata": {},
   "outputs": [],
   "source": [
    "def show_table(data):\n",
    "    table = PrettyTable()\n",
    "    \n",
    "    table.field_names = data[0]\n",
    "    for x in data[:]:\n",
    "        table.add_row(x)\n",
    "    \n",
    "    return table\n",
    "\n",
    "#list_data = get_data('parking.csv')\n",
    "#print(show_table(list_data))"
   ]
  },
  {
   "cell_type": "markdown",
   "metadata": {},
   "source": [
    "## 3. `count_lot_type()`  \n",
    "Accepts a list and the lot type (`SURFACE LOT`/`GARAGE`).  \n",
    "Returns a **tuple** that contains the lot type and the number of lots of that type."
   ]
  },
  {
   "cell_type": "code",
   "execution_count": 45,
   "metadata": {},
   "outputs": [
    {
     "data": {
      "text/plain": [
       "('SURFACE LOT', 57)"
      ]
     },
     "execution_count": 45,
     "metadata": {},
     "output_type": "execute_result"
    }
   ],
   "source": [
    "def count_lot_type(data, lot_type):\n",
    "    counter = Counter(elem[1] for elem in data)\n",
    "    count = (lot_type, counter[lot_type])\n",
    "    \n",
    "    return count\n",
    "\n",
    "#list_data = get_data('parking.csv')\n",
    "#count_lot_type(list_data, 'SURFACE LOT')"
   ]
  },
  {
   "cell_type": "markdown",
   "metadata": {},
   "source": [
    "## 4. `get_column_stats()`  \n",
    "Accepts a list and a column position (2.. 5; others return error). Converts column to a **Numpy array**, uses `max`, `min`, and `mean` functions to calculate values.  \n",
    "Returns a **PrettyTable**."
   ]
  },
  {
   "cell_type": "code",
   "execution_count": null,
   "metadata": {},
   "outputs": [],
   "source": []
  }
 ],
 "metadata": {
  "kernelspec": {
   "display_name": "Python 3",
   "language": "python",
   "name": "python3"
  },
  "language_info": {
   "codemirror_mode": {
    "name": "ipython",
    "version": 3
   },
   "file_extension": ".py",
   "mimetype": "text/x-python",
   "name": "python",
   "nbconvert_exporter": "python",
   "pygments_lexer": "ipython3",
   "version": "3.8.5"
  }
 },
 "nbformat": 4,
 "nbformat_minor": 4
}
